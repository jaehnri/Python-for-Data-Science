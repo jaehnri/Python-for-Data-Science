{
 "cells": [
  {
   "cell_type": "code",
   "execution_count": 5,
   "metadata": {},
   "outputs": [
    {
     "name": "stdout",
     "output_type": "stream",
     "text": [
      "eae\n"
     ]
    }
   ],
   "source": [
    "print('eae')"
   ]
  },
  {
   "cell_type": "markdown",
   "metadata": {},
   "source": [
    "# Using Print(), it will return a string, but if you not use it, you're gonna receive an Output Line:"
   ]
  },
  {
   "cell_type": "code",
   "execution_count": 3,
   "metadata": {},
   "outputs": [
    {
     "data": {
      "text/plain": [
       "'Shift + Enter'"
      ]
     },
     "execution_count": 3,
     "metadata": {},
     "output_type": "execute_result"
    }
   ],
   "source": [
    "'Shift + Enter'"
   ]
  },
  {
   "cell_type": "code",
   "execution_count": 4,
   "metadata": {},
   "outputs": [
    {
     "name": "stdout",
     "output_type": "stream",
     "text": [
      "Shift + Enter\n"
     ]
    }
   ],
   "source": [
    "print('Shift + Enter')"
   ]
  },
  {
   "cell_type": "code",
   "execution_count": 2,
   "metadata": {},
   "outputs": [
    {
     "name": "stdout",
     "output_type": "stream",
     "text": [
      "ola joao\n",
      "ola joao\n",
      "ola joao\n",
      "ola joao\n",
      "ola joao\n",
      "ola joao\n",
      "ola joao\n",
      "ola joao\n",
      "ola joao\n",
      "ola joao\n",
      "ola joao\n"
     ]
    }
   ],
   "source": [
    "i = 0;\n",
    "while (i<11):\n",
    "    print(\"ola joao\")\n",
    "    i+=1"
   ]
  },
  {
   "cell_type": "markdown",
   "metadata": {},
   "source": [
    "### To create a new Virtual Environment:"
   ]
  },
  {
   "cell_type": "raw",
   "metadata": {},
   "source": [
    "conda create --name myenv"
   ]
  },
  {
   "cell_type": "markdown",
   "metadata": {},
   "source": [
    "### To create an environment with a specific package:"
   ]
  },
  {
   "cell_type": "raw",
   "metadata": {},
   "source": [
    "conda create --name myenv numpy"
   ]
  },
  {
   "cell_type": "code",
   "execution_count": null,
   "metadata": {},
   "outputs": [],
   "source": []
  }
 ],
 "metadata": {
  "kernelspec": {
   "display_name": "Python 3",
   "language": "python",
   "name": "python3"
  },
  "language_info": {
   "codemirror_mode": {
    "name": "ipython",
    "version": 3
   },
   "file_extension": ".py",
   "mimetype": "text/x-python",
   "name": "python",
   "nbconvert_exporter": "python",
   "pygments_lexer": "ipython3",
   "version": "3.7.3"
  }
 },
 "nbformat": 4,
 "nbformat_minor": 2
}
