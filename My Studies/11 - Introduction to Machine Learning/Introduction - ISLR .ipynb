{
 "cells": [
  {
   "cell_type": "markdown",
   "metadata": {},
   "source": [
    "## Statistical learning refers to a vast set of tools for understanding data."
   ]
  },
  {
   "cell_type": "markdown",
   "metadata": {},
   "source": [
    " **supervised statistical learning** involves building a statistical model for predicting, or estimating, an output based on one or more inputs. "
   ]
  },
  {
   "cell_type": "markdown",
   "metadata": {},
   "source": [
    "**unsupervised statistical learning***, there are inputs but\n",
    "no supervising output; nevertheless we can learn relationships and structure from such data (clustering)"
   ]
  },
  {
   "cell_type": "markdown",
   "metadata": {},
   "source": [
    "    For example, in a marketing setting, we might have demographic\n",
    "    information for a number of current or potential customers. We may wish to\n",
    "    understand which types of customers are similar to each other by grouping\n",
    "    individuals according to their observed characteristics. This is known as a\n",
    "    clustering problem."
   ]
  },
  {
   "cell_type": "markdown",
   "metadata": {},
   "source": [
    "**Linear regression** is used for predicting quantitative values,\n",
    "such as an individual’s salary. In order to predict qualitative values, such as\n",
    "whether a patient survives or dies, or whether the stock market increases\n",
    "or decreases,"
   ]
  },
  {
   "cell_type": "markdown",
   "metadata": {},
   "source": [
    "___________"
   ]
  },
  {
   "cell_type": "markdown",
   "metadata": {},
   "source": [
    "# What Is Statistical Learning?"
   ]
  },
  {
   "cell_type": "markdown",
   "metadata": {},
   "source": [
    "Suppose that we are statistical consultants hired by a\n",
    "client to provide advice on how to improve sales of a particular product. The\n",
    "Advertising data set consists of the sales of that product in 200 different\n",
    "markets, along with advertising budgets for the product in each of those\n",
    "markets for three different media: **TV, radio, and newspaper**"
   ]
  },
  {
   "cell_type": "markdown",
   "metadata": {},
   "source": [
    "In this setting, the advertising budgets are input variables while sales is an output variable. The **input variables** are typically denoted using the symbol **X**, with a subscript to distinguish them. "
   ]
  },
  {
   "cell_type": "markdown",
   "metadata": {},
   "source": [
    "So X1 might be the TV budget, \n",
    "\n"
   ]
  },
  {
   "cell_type": "markdown",
   "metadata": {},
   "source": [
    "X2 the radio budget, and \n",
    "\n"
   ]
  },
  {
   "cell_type": "markdown",
   "metadata": {},
   "source": [
    "X3 the newspaper budget. \n"
   ]
  },
  {
   "cell_type": "markdown",
   "metadata": {},
   "source": [
    "The inputs\n",
    "go by different names, such as *predictors*, *independent variables*, *features*,\n",
    "or sometimes just variables. The output variable—in this case, sales—is\n",
    "often called the *response* or *dependent variable*, and is typically denoted\n",
    "using the symbol **Y** . "
   ]
  },
  {
   "cell_type": "code",
   "execution_count": null,
   "metadata": {},
   "outputs": [],
   "source": []
  }
 ],
 "metadata": {
  "kernelspec": {
   "display_name": "Python 3",
   "language": "python",
   "name": "python3"
  },
  "language_info": {
   "codemirror_mode": {
    "name": "ipython",
    "version": 3
   },
   "file_extension": ".py",
   "mimetype": "text/x-python",
   "name": "python",
   "nbconvert_exporter": "python",
   "pygments_lexer": "ipython3",
   "version": "3.7.3"
  }
 },
 "nbformat": 4,
 "nbformat_minor": 2
}
